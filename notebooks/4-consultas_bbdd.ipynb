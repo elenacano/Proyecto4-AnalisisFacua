{
 "cells": [
  {
   "cell_type": "markdown",
   "metadata": {},
   "source": [
    "## Creación de la base de datos desde python"
   ]
  },
  {
   "cell_type": "markdown",
   "metadata": {},
   "source": [
    "Lo primero es ir a DBeaver y crearnos una base de datos llamada 'supermercados'"
   ]
  },
  {
   "cell_type": "markdown",
   "metadata": {},
   "source": [
    "Después nos conectamos a la bbdd:"
   ]
  },
  {
   "cell_type": "code",
   "execution_count": 3,
   "metadata": {},
   "outputs": [],
   "source": [
    "import pandas as pd\n",
    "import numpy as np\n",
    "import psycopg2\n",
    "from psycopg2 import OperationalError, errorcodes, errors\n",
    "import sys\n",
    "import os\n",
    "\n",
    "# Agregar el directorio 'src' al path\n",
    "sys.path.append(os.path.abspath('../src'))\n",
    "\n",
    "# Importar la función suma del módulo auxiliares\n",
    "import funciones_auxiliares as fa"
   ]
  },
  {
   "cell_type": "code",
   "execution_count": 3,
   "metadata": {},
   "outputs": [],
   "source": [
    "conexion = fa.conexion_bbdd(\"supermercados\")\n",
    "cursor = conexion.cursor()"
   ]
  },
  {
   "cell_type": "markdown",
   "metadata": {},
   "source": [
    "Creamos las tablas:"
   ]
  },
  {
   "cell_type": "code",
   "execution_count": 3,
   "metadata": {},
   "outputs": [],
   "source": [
    "fa.creacion_tablas(conexion, cursor)"
   ]
  },
  {
   "cell_type": "markdown",
   "metadata": {},
   "source": [
    "Inserción de datos en las tablas:"
   ]
  },
  {
   "cell_type": "code",
   "execution_count": 4,
   "metadata": {},
   "outputs": [],
   "source": [
    "fa.insercion_supermercados(conexion, cursor)\n",
    "fa.insercion_productos(conexion, cursor)\n",
    "fa.insercion_marcas(conexion, cursor)\n",
    "fa.insercion_comparativa(conexion, cursor)"
   ]
  },
  {
   "cell_type": "markdown",
   "metadata": {},
   "source": [
    "# Consultas a la bbdd"
   ]
  },
  {
   "cell_type": "code",
   "execution_count": 49,
   "metadata": {},
   "outputs": [],
   "source": [
    "conexion = fa.conexion_bbdd(\"supermercados\")"
   ]
  },
  {
   "cell_type": "markdown",
   "metadata": {},
   "source": [
    "Precio medio de cada producto por supermercado."
   ]
  },
  {
   "cell_type": "code",
   "execution_count": 33,
   "metadata": {},
   "outputs": [
    {
     "data": {
      "text/plain": [
       "['alcampo', 'carrefour', 'dia', 'eroski', 'hipercor', 'mercadona']"
      ]
     },
     "execution_count": 33,
     "metadata": {},
     "output_type": "execute_result"
    }
   ],
   "source": [
    "cursor = conexion.cursor()\n",
    "cursor.execute(\"\"\" SELECT nombre\n",
    "FROM supermercados s;\"\"\")\n",
    "lista_supermercados = pd.DataFrame(cursor.fetchall())[0].to_list()\n",
    "lista_supermercados"
   ]
  },
  {
   "cell_type": "code",
   "execution_count": 36,
   "metadata": {},
   "outputs": [
    {
     "data": {
      "text/plain": [
       "['aceite_de_girasol', 'aceite_de_oliva', 'leche']"
      ]
     },
     "execution_count": 36,
     "metadata": {},
     "output_type": "execute_result"
    }
   ],
   "source": [
    "cursor = conexion.cursor()\n",
    "cursor.execute(\"\"\" SELECT nombre\n",
    "FROM tipo_producto tp;\"\"\")\n",
    "res = cursor.fetchall()\n",
    "lista_productos_1 = pd.DataFrame(res)[0].to_list()\n",
    "lista_productos_2 = pd.DataFrame(res)[0].str.replace(\" \", \"_\").to_list()"
   ]
  },
  {
   "cell_type": "code",
   "execution_count": 62,
   "metadata": {},
   "outputs": [],
   "source": [
    "conexion = fa.conexion_bbdd(\"supermercados\")\n",
    "cursor = conexion.cursor()\n",
    "for super in lista_supermercados:\n",
    "    for i in range(len(lista_productos_1)):\n",
    "        cursor = conexion.cursor()\n",
    "        cursor.execute(f\"\"\" CREATE VIEW media_{super}_{lista_productos_2[i]} AS (\n",
    "                            SELECT nombre_producto, round(avg(precio),2) AS precio_medio\n",
    "                            FROM(SELECT c.nombre AS nombre_producto, precio\n",
    "                                FROM comparativa c\n",
    "                                INNER JOIN supermercados s ON c.id_supermercado = s.id_supermercado \n",
    "                                INNER JOIN tipo_producto tp ON c.id_producto = tp.id_producto\n",
    "                                WHERE s.nombre = '{super}' AND tp.nombre='{lista_productos_1[i]}') AS taux\n",
    "                            GROUP BY nombre_producto\n",
    "                            ORDER BY precio_medio); \"\"\")\n",
    "        conexion.commit()  \n"
   ]
  },
  {
   "cell_type": "code",
   "execution_count": 4,
   "metadata": {},
   "outputs": [
    {
     "data": {
      "text/html": [
       "<div>\n",
       "<style scoped>\n",
       "    .dataframe tbody tr th:only-of-type {\n",
       "        vertical-align: middle;\n",
       "    }\n",
       "\n",
       "    .dataframe tbody tr th {\n",
       "        vertical-align: top;\n",
       "    }\n",
       "\n",
       "    .dataframe thead th {\n",
       "        text-align: right;\n",
       "    }\n",
       "</style>\n",
       "<table border=\"1\" class=\"dataframe\">\n",
       "  <thead>\n",
       "    <tr style=\"text-align: right;\">\n",
       "      <th></th>\n",
       "      <th>0</th>\n",
       "      <th>1</th>\n",
       "    </tr>\n",
       "  </thead>\n",
       "  <tbody>\n",
       "    <tr>\n",
       "      <th>0</th>\n",
       "      <td>leche semidesnatada central lechera asturiana ...</td>\n",
       "      <td>0.70</td>\n",
       "    </tr>\n",
       "    <tr>\n",
       "      <th>1</th>\n",
       "      <td>leche desnatada dia lactea brik 1 l</td>\n",
       "      <td>0.79</td>\n",
       "    </tr>\n",
       "  </tbody>\n",
       "</table>\n",
       "</div>"
      ],
      "text/plain": [
       "                                                   0     1\n",
       "0  leche semidesnatada central lechera asturiana ...  0.70\n",
       "1                leche desnatada dia lactea brik 1 l  0.79"
      ]
     },
     "execution_count": 4,
     "metadata": {},
     "output_type": "execute_result"
    }
   ],
   "source": [
    "conexion = fa.conexion_bbdd(\"supermercados\")\n",
    "cursor = conexion.cursor()\n",
    "cursor.execute(\"\"\" SELECT *\n",
    "                    FROM media_dia_leche;\"\"\")\n",
    "pd.DataFrame(cursor.fetchall()).head(2)"
   ]
  },
  {
   "cell_type": "code",
   "execution_count": null,
   "metadata": {},
   "outputs": [],
   "source": []
  }
 ],
 "metadata": {
  "kernelspec": {
   "display_name": "Python 3",
   "language": "python",
   "name": "python3"
  },
  "language_info": {
   "codemirror_mode": {
    "name": "ipython",
    "version": 3
   },
   "file_extension": ".py",
   "mimetype": "text/x-python",
   "name": "python",
   "nbconvert_exporter": "python",
   "pygments_lexer": "ipython3",
   "version": "3.11.9"
  }
 },
 "nbformat": 4,
 "nbformat_minor": 2
}
