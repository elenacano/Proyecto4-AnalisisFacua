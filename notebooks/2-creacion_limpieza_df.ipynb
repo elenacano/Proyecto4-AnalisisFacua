{
 "cells": [
  {
   "cell_type": "markdown",
   "metadata": {},
   "source": [
    "# Creación y limpieza del dataframe"
   ]
  },
  {
   "cell_type": "code",
   "execution_count": 3,
   "metadata": {},
   "outputs": [],
   "source": [
    "import pandas as pd\n",
    "import numpy as np\n",
    "from time import sleep\n",
    "import json\n",
    "from tqdm import tqdm\n",
    "import os\n",
    "import sys\n",
    "import warnings\n",
    "warnings.filterwarnings('ignore')\n",
    "\n",
    "# Agregar el directorio 'src' al path\n",
    "sys.path.append(os.path.abspath('../src'))\n",
    "\n",
    "# Importar la función suma del módulo auxiliares\n",
    "import funciones_auxiliares as fa"
   ]
  },
  {
   "cell_type": "code",
   "execution_count": 15,
   "metadata": {},
   "outputs": [],
   "source": [
    "os.chdir(\"../datos\")\n",
    "datos = os.listdir()[:18]\n",
    "df=pd.DataFrame()\n",
    "\n",
    "for i in datos:\n",
    "    df_aux = pd.read_csv(f\"../datos/{i}\")\n",
    "    # print(i)\n",
    "    df = pd.concat([df, df_aux])"
   ]
  },
  {
   "cell_type": "code",
   "execution_count": 5,
   "metadata": {},
   "outputs": [],
   "source": [
    "df.drop(columns=[\"Unnamed: 0\"], inplace=True)\n",
    "df = df.reindex(columns=['supermercado', 'producto','nombre_producto', 'Día', 'Precio (€)', 'Variación'])"
   ]
  },
  {
   "cell_type": "markdown",
   "metadata": {},
   "source": [
    "Cambiamos la columna de variación para hacer dos columnas, una indicando si ha habido un aumento o una disminucion y otra con el porcentaje."
   ]
  },
  {
   "cell_type": "code",
   "execution_count": 6,
   "metadata": {},
   "outputs": [],
   "source": [
    "df[\"Variación\"] = df[\"Variación\"].apply(lambda x: np.nan if x=='=' else x)"
   ]
  },
  {
   "cell_type": "code",
   "execution_count": 7,
   "metadata": {},
   "outputs": [],
   "source": [
    "# Pasamos de una columna a dos\n",
    "df_aux = df[\"Variación\"].str.split(\" \", expand=True)\n",
    "df = pd.concat([df,df_aux], axis=1)"
   ]
  },
  {
   "cell_type": "code",
   "execution_count": 8,
   "metadata": {},
   "outputs": [],
   "source": [
    "# Eliminamos la columna y renombramos\n",
    "df.drop(columns=[\"Variación\"], inplace=True)\n",
    "df.rename(columns={0: 'incremento', 1:\"porcentaje\"}, inplace=True)"
   ]
  },
  {
   "cell_type": "code",
   "execution_count": 9,
   "metadata": {},
   "outputs": [
    {
     "data": {
      "text/plain": [
       "1597"
      ]
     },
     "execution_count": 9,
     "metadata": {},
     "output_type": "execute_result"
    }
   ],
   "source": [
    "len(df[\"nombre_producto\"].unique())"
   ]
  },
  {
   "cell_type": "markdown",
   "metadata": {},
   "source": [
    "En incremento dejamos solo si es aumento o decremento y en porcentaje solo el número:"
   ]
  },
  {
   "cell_type": "code",
   "execution_count": 10,
   "metadata": {},
   "outputs": [],
   "source": [
    "df[\"incremento\"]=df[\"incremento\"].apply(lambda x: x[0] if type(x)==str else x)\n",
    "df[\"incremento\"]=df[\"incremento\"].map({'+':'aumento', '-':'decremento'})\n",
    "df[\"porcentaje\"]=df[\"porcentaje\"].str.replace(r\"[()%]\", \"\", regex=True)"
   ]
  },
  {
   "cell_type": "markdown",
   "metadata": {},
   "source": [
    "Ahora sacamos una subcategoría a partir del nombre:"
   ]
  },
  {
   "cell_type": "code",
   "execution_count": 11,
   "metadata": {},
   "outputs": [],
   "source": [
    "df[\"nombre_producto\"]=df[\"nombre_producto\"].str.lower()\n",
    "df[\"producto\"]=df[\"producto\"].str.lower()\n"
   ]
  },
  {
   "cell_type": "code",
   "execution_count": 12,
   "metadata": {},
   "outputs": [],
   "source": [
    "# Aplicar la función al DataFrame para crear la columna subcategoria\n",
    "df['subcategoria'] = df.apply(fa.obtener_subcategoria, axis=1)"
   ]
  },
  {
   "cell_type": "code",
   "execution_count": 14,
   "metadata": {},
   "outputs": [],
   "source": [
    "df=df.reindex(columns=['supermercado', 'producto', 'nombre_producto', 'subcategoria', 'Día', 'Precio (€)',\n",
    "       'incremento', 'porcentaje'])"
   ]
  },
  {
   "cell_type": "code",
   "execution_count": null,
   "metadata": {},
   "outputs": [],
   "source": [
    "df.to_csv(\"../datos/df_supermercados.csv\")"
   ]
  }
 ],
 "metadata": {
  "kernelspec": {
   "display_name": "Python 3",
   "language": "python",
   "name": "python3"
  },
  "language_info": {
   "codemirror_mode": {
    "name": "ipython",
    "version": 3
   },
   "file_extension": ".py",
   "mimetype": "text/x-python",
   "name": "python",
   "nbconvert_exporter": "python",
   "pygments_lexer": "ipython3",
   "version": "3.11.9"
  }
 },
 "nbformat": 4,
 "nbformat_minor": 2
}
