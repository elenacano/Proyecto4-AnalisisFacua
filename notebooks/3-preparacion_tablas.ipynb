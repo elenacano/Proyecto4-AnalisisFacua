{
 "cells": [
  {
   "cell_type": "markdown",
   "metadata": {},
   "source": [
    "## Preparación de los dataframes para la base de datos"
   ]
  },
  {
   "cell_type": "code",
   "execution_count": 12,
   "metadata": {},
   "outputs": [],
   "source": [
    "import pandas as pd\n",
    "import numpy as np\n",
    "import warnings\n",
    "warnings.filterwarnings('ignore')"
   ]
  },
  {
   "cell_type": "code",
   "execution_count": 13,
   "metadata": {},
   "outputs": [],
   "source": [
    "df = pd.read_csv(f\"../datos/df_supermercados.csv\")"
   ]
  },
  {
   "cell_type": "markdown",
   "metadata": {},
   "source": [
    "Tabla supermercados"
   ]
  },
  {
   "cell_type": "code",
   "execution_count": 14,
   "metadata": {},
   "outputs": [],
   "source": [
    "df_super = pd.DataFrame(df[\"supermercado\"].unique())\n",
    "df_super.reset_index(inplace=True)\n",
    "df_super.rename(columns={'index':'id_super', 0:'nombre'}, inplace=True)\n",
    "df_super[\"id_super\"]=df_super[\"id_super\"].apply(lambda x: x+1)"
   ]
  },
  {
   "cell_type": "code",
   "execution_count": 15,
   "metadata": {},
   "outputs": [],
   "source": [
    "df_super.to_csv(\"../datos/tabla_super.csv\")"
   ]
  },
  {
   "cell_type": "code",
   "execution_count": 16,
   "metadata": {},
   "outputs": [
    {
     "data": {
      "text/html": [
       "<div>\n",
       "<style scoped>\n",
       "    .dataframe tbody tr th:only-of-type {\n",
       "        vertical-align: middle;\n",
       "    }\n",
       "\n",
       "    .dataframe tbody tr th {\n",
       "        vertical-align: top;\n",
       "    }\n",
       "\n",
       "    .dataframe thead th {\n",
       "        text-align: right;\n",
       "    }\n",
       "</style>\n",
       "<table border=\"1\" class=\"dataframe\">\n",
       "  <thead>\n",
       "    <tr style=\"text-align: right;\">\n",
       "      <th></th>\n",
       "      <th>id_super</th>\n",
       "      <th>nombre</th>\n",
       "    </tr>\n",
       "  </thead>\n",
       "  <tbody>\n",
       "    <tr>\n",
       "      <th>0</th>\n",
       "      <td>1</td>\n",
       "      <td>alcampo</td>\n",
       "    </tr>\n",
       "    <tr>\n",
       "      <th>1</th>\n",
       "      <td>2</td>\n",
       "      <td>carrefour</td>\n",
       "    </tr>\n",
       "    <tr>\n",
       "      <th>2</th>\n",
       "      <td>3</td>\n",
       "      <td>dia</td>\n",
       "    </tr>\n",
       "    <tr>\n",
       "      <th>3</th>\n",
       "      <td>4</td>\n",
       "      <td>eroski</td>\n",
       "    </tr>\n",
       "    <tr>\n",
       "      <th>4</th>\n",
       "      <td>5</td>\n",
       "      <td>hipercor</td>\n",
       "    </tr>\n",
       "    <tr>\n",
       "      <th>5</th>\n",
       "      <td>6</td>\n",
       "      <td>mercadona</td>\n",
       "    </tr>\n",
       "  </tbody>\n",
       "</table>\n",
       "</div>"
      ],
      "text/plain": [
       "   id_super     nombre\n",
       "0         1    alcampo\n",
       "1         2  carrefour\n",
       "2         3        dia\n",
       "3         4     eroski\n",
       "4         5   hipercor\n",
       "5         6  mercadona"
      ]
     },
     "execution_count": 16,
     "metadata": {},
     "output_type": "execute_result"
    }
   ],
   "source": [
    "df_super"
   ]
  },
  {
   "cell_type": "markdown",
   "metadata": {},
   "source": [
    "Tabla productos"
   ]
  },
  {
   "cell_type": "code",
   "execution_count": 17,
   "metadata": {},
   "outputs": [],
   "source": [
    "df_productos = pd.DataFrame(df[\"producto\"].unique())\n",
    "df_productos.reset_index(inplace=True)\n",
    "df_productos.rename(columns={'index':'id_producto', 0:'nombre'}, inplace=True)\n",
    "df_productos[\"id_producto\"]=df_productos[\"id_producto\"].apply(lambda x: x+1)"
   ]
  },
  {
   "cell_type": "code",
   "execution_count": 18,
   "metadata": {},
   "outputs": [],
   "source": [
    "df_productos.to_csv(\"../datos/tabla_productos.csv\")"
   ]
  },
  {
   "cell_type": "code",
   "execution_count": 19,
   "metadata": {},
   "outputs": [
    {
     "data": {
      "text/html": [
       "<div>\n",
       "<style scoped>\n",
       "    .dataframe tbody tr th:only-of-type {\n",
       "        vertical-align: middle;\n",
       "    }\n",
       "\n",
       "    .dataframe tbody tr th {\n",
       "        vertical-align: top;\n",
       "    }\n",
       "\n",
       "    .dataframe thead th {\n",
       "        text-align: right;\n",
       "    }\n",
       "</style>\n",
       "<table border=\"1\" class=\"dataframe\">\n",
       "  <thead>\n",
       "    <tr style=\"text-align: right;\">\n",
       "      <th></th>\n",
       "      <th>id_producto</th>\n",
       "      <th>nombre</th>\n",
       "    </tr>\n",
       "  </thead>\n",
       "  <tbody>\n",
       "    <tr>\n",
       "      <th>0</th>\n",
       "      <td>1</td>\n",
       "      <td>aceite de girasol</td>\n",
       "    </tr>\n",
       "    <tr>\n",
       "      <th>1</th>\n",
       "      <td>2</td>\n",
       "      <td>aceite de oliva</td>\n",
       "    </tr>\n",
       "    <tr>\n",
       "      <th>2</th>\n",
       "      <td>3</td>\n",
       "      <td>leche</td>\n",
       "    </tr>\n",
       "  </tbody>\n",
       "</table>\n",
       "</div>"
      ],
      "text/plain": [
       "   id_producto             nombre\n",
       "0            1  aceite de girasol\n",
       "1            2    aceite de oliva\n",
       "2            3              leche"
      ]
     },
     "execution_count": 19,
     "metadata": {},
     "output_type": "execute_result"
    }
   ],
   "source": [
    "df_productos"
   ]
  },
  {
   "cell_type": "markdown",
   "metadata": {},
   "source": [
    "Tabla comparativa"
   ]
  },
  {
   "cell_type": "markdown",
   "metadata": {},
   "source": [
    "Incluimos los id del supermercado y producto para tener las claves foraneas:"
   ]
  },
  {
   "cell_type": "code",
   "execution_count": 20,
   "metadata": {},
   "outputs": [],
   "source": [
    "df_merged = df.merge(right=df_super, how='left', left_on ='supermercado', right_on=\"nombre\")\n",
    "df_merged=df_merged.drop(columns=[\"Unnamed: 0\", \"supermercado\", \"nombre\"])"
   ]
  },
  {
   "cell_type": "code",
   "execution_count": 21,
   "metadata": {},
   "outputs": [],
   "source": [
    "df_merged_2 = df_merged.merge(right=df_productos, how='left', left_on ='producto', right_on=\"nombre\")\n",
    "df_merged_2 = df_merged_2.drop(columns=[\"producto\", \"nombre\"])"
   ]
  },
  {
   "cell_type": "markdown",
   "metadata": {},
   "source": [
    "Transformamos el precio a float:"
   ]
  },
  {
   "cell_type": "code",
   "execution_count": 22,
   "metadata": {},
   "outputs": [],
   "source": [
    "df_merged_2[\"Precio (€)\"]=df_merged_2[\"Precio (€)\"].str.replace(\",\",\".\").apply(float)\n",
    "df_merged_2[\"porcentaje\"]=df_merged_2[\"porcentaje\"].str.replace(\",\",\".\").apply(float)"
   ]
  },
  {
   "cell_type": "markdown",
   "metadata": {},
   "source": [
    "Transformamos la fecha a formato fecha:"
   ]
  },
  {
   "cell_type": "code",
   "execution_count": 23,
   "metadata": {},
   "outputs": [],
   "source": [
    "df_merged_2[\"Día\"]=pd.to_datetime(df_merged_2[\"Día\"])"
   ]
  },
  {
   "cell_type": "markdown",
   "metadata": {},
   "source": [
    "Reordenamos y borramos duplicados:"
   ]
  },
  {
   "cell_type": "code",
   "execution_count": 24,
   "metadata": {},
   "outputs": [],
   "source": [
    "df_merged_2 = df_merged_2.reindex(columns=['id_super', 'id_producto', 'nombre_producto', 'subcategoria', 'Día', 'Precio (€)', 'incremento', 'porcentaje'])\n",
    "df_merged_2.drop_duplicates(inplace=True)"
   ]
  },
  {
   "cell_type": "code",
   "execution_count": 25,
   "metadata": {},
   "outputs": [],
   "source": [
    "df_merged_2.to_csv(\"../datos/tabla_comparativa.csv\")"
   ]
  },
  {
   "cell_type": "code",
   "execution_count": 26,
   "metadata": {},
   "outputs": [
    {
     "data": {
      "text/html": [
       "<div>\n",
       "<style scoped>\n",
       "    .dataframe tbody tr th:only-of-type {\n",
       "        vertical-align: middle;\n",
       "    }\n",
       "\n",
       "    .dataframe tbody tr th {\n",
       "        vertical-align: top;\n",
       "    }\n",
       "\n",
       "    .dataframe thead th {\n",
       "        text-align: right;\n",
       "    }\n",
       "</style>\n",
       "<table border=\"1\" class=\"dataframe\">\n",
       "  <thead>\n",
       "    <tr style=\"text-align: right;\">\n",
       "      <th></th>\n",
       "      <th>id_super</th>\n",
       "      <th>id_producto</th>\n",
       "      <th>nombre_producto</th>\n",
       "      <th>subcategoria</th>\n",
       "      <th>Día</th>\n",
       "      <th>Precio (€)</th>\n",
       "      <th>incremento</th>\n",
       "      <th>porcentaje</th>\n",
       "    </tr>\n",
       "  </thead>\n",
       "  <tbody>\n",
       "    <tr>\n",
       "      <th>133313</th>\n",
       "      <td>6</td>\n",
       "      <td>3</td>\n",
       "      <td>leche semidesnatada sin lactosa hacendado 9 l</td>\n",
       "      <td>semidesnatada</td>\n",
       "      <td>2024-09-20</td>\n",
       "      <td>9.18</td>\n",
       "      <td>NaN</td>\n",
       "      <td>NaN</td>\n",
       "    </tr>\n",
       "    <tr>\n",
       "      <th>69277</th>\n",
       "      <td>4</td>\n",
       "      <td>2</td>\n",
       "      <td>aceite de oliva virgen extra arronizarbe nekea...</td>\n",
       "      <td>virgen extra</td>\n",
       "      <td>2024-09-26</td>\n",
       "      <td>8.38</td>\n",
       "      <td>NaN</td>\n",
       "      <td>NaN</td>\n",
       "    </tr>\n",
       "    <tr>\n",
       "      <th>25916</th>\n",
       "      <td>1</td>\n",
       "      <td>3</td>\n",
       "      <td>pascual leche de vaca desnatada de bienestar a...</td>\n",
       "      <td>desnatada</td>\n",
       "      <td>2024-09-30</td>\n",
       "      <td>10.08</td>\n",
       "      <td>NaN</td>\n",
       "      <td>NaN</td>\n",
       "    </tr>\n",
       "    <tr>\n",
       "      <th>110760</th>\n",
       "      <td>5</td>\n",
       "      <td>3</td>\n",
       "      <td>asturiana leche desnatada con calcio y vitamin...</td>\n",
       "      <td>desnatada</td>\n",
       "      <td>2024-08-15</td>\n",
       "      <td>1.48</td>\n",
       "      <td>NaN</td>\n",
       "      <td>NaN</td>\n",
       "    </tr>\n",
       "    <tr>\n",
       "      <th>41935</th>\n",
       "      <td>2</td>\n",
       "      <td>2</td>\n",
       "      <td>aceite de oliva virgen extra retama garrafa 5 l</td>\n",
       "      <td>virgen extra</td>\n",
       "      <td>2024-08-06</td>\n",
       "      <td>48.90</td>\n",
       "      <td>NaN</td>\n",
       "      <td>NaN</td>\n",
       "    </tr>\n",
       "  </tbody>\n",
       "</table>\n",
       "</div>"
      ],
      "text/plain": [
       "        id_super  id_producto  \\\n",
       "133313         6            3   \n",
       "69277          4            2   \n",
       "25916          1            3   \n",
       "110760         5            3   \n",
       "41935          2            2   \n",
       "\n",
       "                                          nombre_producto   subcategoria  \\\n",
       "133313      leche semidesnatada sin lactosa hacendado 9 l  semidesnatada   \n",
       "69277   aceite de oliva virgen extra arronizarbe nekea...   virgen extra   \n",
       "25916   pascual leche de vaca desnatada de bienestar a...      desnatada   \n",
       "110760  asturiana leche desnatada con calcio y vitamin...      desnatada   \n",
       "41935     aceite de oliva virgen extra retama garrafa 5 l   virgen extra   \n",
       "\n",
       "              Día  Precio (€) incremento  porcentaje  \n",
       "133313 2024-09-20        9.18        NaN         NaN  \n",
       "69277  2024-09-26        8.38        NaN         NaN  \n",
       "25916  2024-09-30       10.08        NaN         NaN  \n",
       "110760 2024-08-15        1.48        NaN         NaN  \n",
       "41935  2024-08-06       48.90        NaN         NaN  "
      ]
     },
     "execution_count": 26,
     "metadata": {},
     "output_type": "execute_result"
    }
   ],
   "source": [
    "df_merged_2.sample(5)"
   ]
  }
 ],
 "metadata": {
  "kernelspec": {
   "display_name": "Python 3",
   "language": "python",
   "name": "python3"
  },
  "language_info": {
   "codemirror_mode": {
    "name": "ipython",
    "version": 3
   },
   "file_extension": ".py",
   "mimetype": "text/x-python",
   "name": "python",
   "nbconvert_exporter": "python",
   "pygments_lexer": "ipython3",
   "version": "3.11.9"
  }
 },
 "nbformat": 4,
 "nbformat_minor": 2
}
