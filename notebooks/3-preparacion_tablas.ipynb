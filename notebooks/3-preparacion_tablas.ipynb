{
 "cells": [
  {
   "cell_type": "markdown",
   "metadata": {},
   "source": [
    "## Preparación de los dataframes para la base de datos"
   ]
  },
  {
   "cell_type": "code",
   "execution_count": 1,
   "metadata": {},
   "outputs": [],
   "source": [
    "import pandas as pd\n",
    "import numpy as np\n",
    "import sys\n",
    "import os\n",
    "import warnings\n",
    "warnings.filterwarnings('ignore')\n",
    "\n",
    "# Agregar el directorio 'src' al path\n",
    "sys.path.append(os.path.abspath('../src'))\n",
    "\n",
    "# Importar la función suma del módulo auxiliares\n",
    "import funciones_auxiliares as fa"
   ]
  },
  {
   "cell_type": "code",
   "execution_count": 2,
   "metadata": {},
   "outputs": [],
   "source": [
    "df = pd.read_csv(f\"../datos/df_supermercados.csv\")"
   ]
  },
  {
   "cell_type": "markdown",
   "metadata": {},
   "source": [
    "Tabla supermercados"
   ]
  },
  {
   "cell_type": "code",
   "execution_count": 3,
   "metadata": {},
   "outputs": [],
   "source": [
    "df_super = pd.DataFrame(df[\"supermercado\"].unique())\n",
    "df_super.reset_index(inplace=True)\n",
    "df_super.rename(columns={'index':'id_super', 0:'nombre'}, inplace=True)\n",
    "df_super[\"id_super\"]=df_super[\"id_super\"].apply(lambda x: x+1)"
   ]
  },
  {
   "cell_type": "code",
   "execution_count": 4,
   "metadata": {},
   "outputs": [],
   "source": [
    "df_super.to_csv(\"../datos/tabla_super.csv\")"
   ]
  },
  {
   "cell_type": "code",
   "execution_count": 5,
   "metadata": {},
   "outputs": [
    {
     "data": {
      "text/html": [
       "<div>\n",
       "<style scoped>\n",
       "    .dataframe tbody tr th:only-of-type {\n",
       "        vertical-align: middle;\n",
       "    }\n",
       "\n",
       "    .dataframe tbody tr th {\n",
       "        vertical-align: top;\n",
       "    }\n",
       "\n",
       "    .dataframe thead th {\n",
       "        text-align: right;\n",
       "    }\n",
       "</style>\n",
       "<table border=\"1\" class=\"dataframe\">\n",
       "  <thead>\n",
       "    <tr style=\"text-align: right;\">\n",
       "      <th></th>\n",
       "      <th>id_super</th>\n",
       "      <th>nombre</th>\n",
       "    </tr>\n",
       "  </thead>\n",
       "  <tbody>\n",
       "    <tr>\n",
       "      <th>0</th>\n",
       "      <td>1</td>\n",
       "      <td>alcampo</td>\n",
       "    </tr>\n",
       "    <tr>\n",
       "      <th>1</th>\n",
       "      <td>2</td>\n",
       "      <td>carrefour</td>\n",
       "    </tr>\n",
       "    <tr>\n",
       "      <th>2</th>\n",
       "      <td>3</td>\n",
       "      <td>dia</td>\n",
       "    </tr>\n",
       "    <tr>\n",
       "      <th>3</th>\n",
       "      <td>4</td>\n",
       "      <td>eroski</td>\n",
       "    </tr>\n",
       "    <tr>\n",
       "      <th>4</th>\n",
       "      <td>5</td>\n",
       "      <td>hipercor</td>\n",
       "    </tr>\n",
       "    <tr>\n",
       "      <th>5</th>\n",
       "      <td>6</td>\n",
       "      <td>mercadona</td>\n",
       "    </tr>\n",
       "  </tbody>\n",
       "</table>\n",
       "</div>"
      ],
      "text/plain": [
       "   id_super     nombre\n",
       "0         1    alcampo\n",
       "1         2  carrefour\n",
       "2         3        dia\n",
       "3         4     eroski\n",
       "4         5   hipercor\n",
       "5         6  mercadona"
      ]
     },
     "execution_count": 5,
     "metadata": {},
     "output_type": "execute_result"
    }
   ],
   "source": [
    "df_super"
   ]
  },
  {
   "cell_type": "markdown",
   "metadata": {},
   "source": [
    "Tabla productos"
   ]
  },
  {
   "cell_type": "code",
   "execution_count": 6,
   "metadata": {},
   "outputs": [],
   "source": [
    "df_productos = pd.DataFrame(df[\"producto\"].unique())\n",
    "df_productos.reset_index(inplace=True)\n",
    "df_productos.rename(columns={'index':'id_producto', 0:'nombre'}, inplace=True)\n",
    "df_productos[\"id_producto\"]=df_productos[\"id_producto\"].apply(lambda x: x+1)"
   ]
  },
  {
   "cell_type": "code",
   "execution_count": 7,
   "metadata": {},
   "outputs": [],
   "source": [
    "df_productos.to_csv(\"../datos/tabla_productos.csv\")"
   ]
  },
  {
   "cell_type": "code",
   "execution_count": 8,
   "metadata": {},
   "outputs": [
    {
     "data": {
      "text/html": [
       "<div>\n",
       "<style scoped>\n",
       "    .dataframe tbody tr th:only-of-type {\n",
       "        vertical-align: middle;\n",
       "    }\n",
       "\n",
       "    .dataframe tbody tr th {\n",
       "        vertical-align: top;\n",
       "    }\n",
       "\n",
       "    .dataframe thead th {\n",
       "        text-align: right;\n",
       "    }\n",
       "</style>\n",
       "<table border=\"1\" class=\"dataframe\">\n",
       "  <thead>\n",
       "    <tr style=\"text-align: right;\">\n",
       "      <th></th>\n",
       "      <th>id_producto</th>\n",
       "      <th>nombre</th>\n",
       "    </tr>\n",
       "  </thead>\n",
       "  <tbody>\n",
       "    <tr>\n",
       "      <th>0</th>\n",
       "      <td>1</td>\n",
       "      <td>aceite de girasol</td>\n",
       "    </tr>\n",
       "    <tr>\n",
       "      <th>1</th>\n",
       "      <td>2</td>\n",
       "      <td>aceite de oliva</td>\n",
       "    </tr>\n",
       "    <tr>\n",
       "      <th>2</th>\n",
       "      <td>3</td>\n",
       "      <td>leche</td>\n",
       "    </tr>\n",
       "  </tbody>\n",
       "</table>\n",
       "</div>"
      ],
      "text/plain": [
       "   id_producto             nombre\n",
       "0            1  aceite de girasol\n",
       "1            2    aceite de oliva\n",
       "2            3              leche"
      ]
     },
     "execution_count": 8,
     "metadata": {},
     "output_type": "execute_result"
    }
   ],
   "source": [
    "df_productos"
   ]
  },
  {
   "cell_type": "markdown",
   "metadata": {},
   "source": [
    "Tabla comparativa"
   ]
  },
  {
   "cell_type": "markdown",
   "metadata": {},
   "source": [
    "Incluimos los id del supermercado y producto para tener las claves foraneas:"
   ]
  },
  {
   "cell_type": "code",
   "execution_count": 9,
   "metadata": {},
   "outputs": [],
   "source": [
    "df_merged = df.merge(right=df_super, how='left', left_on ='supermercado', right_on=\"nombre\")\n",
    "df_merged=df_merged.drop(columns=[\"Unnamed: 0\", \"supermercado\", \"nombre\"])"
   ]
  },
  {
   "cell_type": "code",
   "execution_count": 10,
   "metadata": {},
   "outputs": [],
   "source": [
    "df_merged_2 = df_merged.merge(right=df_productos, how='left', left_on ='producto', right_on=\"nombre\")\n",
    "df_merged_2 = df_merged_2.drop(columns=[\"producto\", \"nombre\"])"
   ]
  },
  {
   "cell_type": "markdown",
   "metadata": {},
   "source": [
    "Transformamos el precio a float:"
   ]
  },
  {
   "cell_type": "code",
   "execution_count": 11,
   "metadata": {},
   "outputs": [],
   "source": [
    "df_merged_2[\"Precio (€)\"]=df_merged_2[\"Precio (€)\"].str.replace(\",\",\".\").apply(float)\n",
    "df_merged_2[\"porcentaje\"]=df_merged_2[\"porcentaje\"].str.replace(\",\",\".\").apply(float)"
   ]
  },
  {
   "cell_type": "markdown",
   "metadata": {},
   "source": [
    "Transformamos la fecha a formato fecha:"
   ]
  },
  {
   "cell_type": "code",
   "execution_count": 12,
   "metadata": {},
   "outputs": [],
   "source": [
    "df_merged_2[\"Día\"]=pd.to_datetime(df_merged_2[\"Día\"])"
   ]
  },
  {
   "cell_type": "markdown",
   "metadata": {},
   "source": [
    "Reordenamos y borramos duplicados:"
   ]
  },
  {
   "cell_type": "code",
   "execution_count": 13,
   "metadata": {},
   "outputs": [],
   "source": [
    "df_merged_2 = df_merged_2.reindex(columns=['id_super', 'id_producto', 'nombre_producto', 'subcategoria', 'Día', 'Precio (€)', 'incremento', 'porcentaje'])\n",
    "df_merged_2.drop_duplicates(inplace=True)"
   ]
  },
  {
   "cell_type": "markdown",
   "metadata": {},
   "source": [
    "Finalmente añadiremos tres nuevas columnas: \"marca\", \"cantidad\" y \"dia_semana\"."
   ]
  },
  {
   "cell_type": "code",
   "execution_count": 23,
   "metadata": {},
   "outputs": [],
   "source": [
    "# Primero corregimos algunos nombres mal escritos:\n",
    "df_merged_2[\"nombre_producto\"]=df_merged_2[\"nombre_producto\"].str.replace(\"carbonel\", \"carbonell\")\n",
    "df_merged_2[\"nombre_producto\"]=df_merged_2[\"nombre_producto\"].str.replace(\"arginano\", \"arguinano\")"
   ]
  },
  {
   "cell_type": "code",
   "execution_count": 24,
   "metadata": {},
   "outputs": [],
   "source": [
    "# Creamos el df con las nuevas columnas\n",
    "df_aux = pd.DataFrame()\n",
    "df_aux[['marca', 'cantidad_unidad']] = df_merged_2['nombre_producto'].apply(fa.extraer_marca_cantidad)\n",
    "df_aux[\"marca\"]=df_aux[\"marca\"].str.strip()"
   ]
  },
  {
   "cell_type": "code",
   "execution_count": 25,
   "metadata": {},
   "outputs": [],
   "source": [
    "df_merged_3 = pd.concat([df_merged_2, df_aux], axis=1)"
   ]
  },
  {
   "cell_type": "code",
   "execution_count": 31,
   "metadata": {},
   "outputs": [],
   "source": [
    "# Añadimos el día de la semana basandonos en la fecha\n",
    "dias_traduccion = {\n",
    "    'Monday': 'lunes', 'Tuesday': 'martes', 'Wednesday': 'miércoles', \n",
    "    'Thursday': 'jueves', 'Friday': 'viernes', 'Saturday': 'sábado', 'Sunday': 'domingo'\n",
    "}\n",
    "df_merged_3['dia_semana']=df_merged_3['Día'].dt.day_name().map(dias_traduccion)"
   ]
  },
  {
   "cell_type": "code",
   "execution_count": 33,
   "metadata": {},
   "outputs": [],
   "source": [
    "df_merged_3.to_csv(\"../datos/tabla_comparativa.csv\")"
   ]
  },
  {
   "cell_type": "code",
   "execution_count": 34,
   "metadata": {},
   "outputs": [
    {
     "data": {
      "text/html": [
       "<div>\n",
       "<style scoped>\n",
       "    .dataframe tbody tr th:only-of-type {\n",
       "        vertical-align: middle;\n",
       "    }\n",
       "\n",
       "    .dataframe tbody tr th {\n",
       "        vertical-align: top;\n",
       "    }\n",
       "\n",
       "    .dataframe thead th {\n",
       "        text-align: right;\n",
       "    }\n",
       "</style>\n",
       "<table border=\"1\" class=\"dataframe\">\n",
       "  <thead>\n",
       "    <tr style=\"text-align: right;\">\n",
       "      <th></th>\n",
       "      <th>id_super</th>\n",
       "      <th>id_producto</th>\n",
       "      <th>nombre_producto</th>\n",
       "      <th>subcategoria</th>\n",
       "      <th>Día</th>\n",
       "      <th>Precio (€)</th>\n",
       "      <th>incremento</th>\n",
       "      <th>porcentaje</th>\n",
       "      <th>marca</th>\n",
       "      <th>cantidad_unidad</th>\n",
       "      <th>dia_semana</th>\n",
       "    </tr>\n",
       "  </thead>\n",
       "  <tbody>\n",
       "    <tr>\n",
       "      <th>75912</th>\n",
       "      <td>4</td>\n",
       "      <td>3</td>\n",
       "      <td>leche desnatada calcio pascual brik 1 litro</td>\n",
       "      <td>desnatada</td>\n",
       "      <td>2024-08-28</td>\n",
       "      <td>1.75</td>\n",
       "      <td>NaN</td>\n",
       "      <td>NaN</td>\n",
       "      <td>pascual</td>\n",
       "      <td>1 l</td>\n",
       "      <td>miércoles</td>\n",
       "    </tr>\n",
       "    <tr>\n",
       "      <th>65917</th>\n",
       "      <td>4</td>\n",
       "      <td>2</td>\n",
       "      <td>aceite de oliva 04 olilan botella 1 litro</td>\n",
       "      <td>NaN</td>\n",
       "      <td>2024-07-04</td>\n",
       "      <td>7.62</td>\n",
       "      <td>NaN</td>\n",
       "      <td>NaN</td>\n",
       "      <td>olilan</td>\n",
       "      <td>1 l</td>\n",
       "      <td>jueves</td>\n",
       "    </tr>\n",
       "    <tr>\n",
       "      <th>1272</th>\n",
       "      <td>1</td>\n",
       "      <td>1</td>\n",
       "      <td>producto alcampo aceite de girasol botella de 1 l</td>\n",
       "      <td>NaN</td>\n",
       "      <td>2024-07-09</td>\n",
       "      <td>1.45</td>\n",
       "      <td>NaN</td>\n",
       "      <td>NaN</td>\n",
       "      <td>alcampo</td>\n",
       "      <td>1 l</td>\n",
       "      <td>martes</td>\n",
       "    </tr>\n",
       "    <tr>\n",
       "      <th>64394</th>\n",
       "      <td>4</td>\n",
       "      <td>1</td>\n",
       "      <td>aceite de girasol lanisol botella 1 litro</td>\n",
       "      <td>NaN</td>\n",
       "      <td>2024-07-22</td>\n",
       "      <td>1.45</td>\n",
       "      <td>NaN</td>\n",
       "      <td>NaN</td>\n",
       "      <td>lanisol</td>\n",
       "      <td>1 l</td>\n",
       "      <td>lunes</td>\n",
       "    </tr>\n",
       "    <tr>\n",
       "      <th>15926</th>\n",
       "      <td>1</td>\n",
       "      <td>3</td>\n",
       "      <td>auchan leche desnatada de vaca sin lactosa 6 x...</td>\n",
       "      <td>desnatada</td>\n",
       "      <td>2024-09-12</td>\n",
       "      <td>5.10</td>\n",
       "      <td>NaN</td>\n",
       "      <td>NaN</td>\n",
       "      <td>auchan</td>\n",
       "      <td>6 x 1l</td>\n",
       "      <td>jueves</td>\n",
       "    </tr>\n",
       "  </tbody>\n",
       "</table>\n",
       "</div>"
      ],
      "text/plain": [
       "       id_super  id_producto  \\\n",
       "75912         4            3   \n",
       "65917         4            2   \n",
       "1272          1            1   \n",
       "64394         4            1   \n",
       "15926         1            3   \n",
       "\n",
       "                                         nombre_producto subcategoria  \\\n",
       "75912        leche desnatada calcio pascual brik 1 litro    desnatada   \n",
       "65917          aceite de oliva 04 olilan botella 1 litro          NaN   \n",
       "1272   producto alcampo aceite de girasol botella de 1 l          NaN   \n",
       "64394          aceite de girasol lanisol botella 1 litro          NaN   \n",
       "15926  auchan leche desnatada de vaca sin lactosa 6 x...    desnatada   \n",
       "\n",
       "             Día  Precio (€) incremento  porcentaje    marca cantidad_unidad  \\\n",
       "75912 2024-08-28        1.75        NaN         NaN  pascual             1 l   \n",
       "65917 2024-07-04        7.62        NaN         NaN   olilan             1 l   \n",
       "1272  2024-07-09        1.45        NaN         NaN  alcampo             1 l   \n",
       "64394 2024-07-22        1.45        NaN         NaN  lanisol             1 l   \n",
       "15926 2024-09-12        5.10        NaN         NaN   auchan          6 x 1l   \n",
       "\n",
       "      dia_semana  \n",
       "75912  miércoles  \n",
       "65917     jueves  \n",
       "1272      martes  \n",
       "64394      lunes  \n",
       "15926     jueves  "
      ]
     },
     "execution_count": 34,
     "metadata": {},
     "output_type": "execute_result"
    }
   ],
   "source": [
    "df_merged_3.sample(5)"
   ]
  }
 ],
 "metadata": {
  "kernelspec": {
   "display_name": "Python 3",
   "language": "python",
   "name": "python3"
  },
  "language_info": {
   "codemirror_mode": {
    "name": "ipython",
    "version": 3
   },
   "file_extension": ".py",
   "mimetype": "text/x-python",
   "name": "python",
   "nbconvert_exporter": "python",
   "pygments_lexer": "ipython3",
   "version": "3.11.9"
  }
 },
 "nbformat": 4,
 "nbformat_minor": 2
}
