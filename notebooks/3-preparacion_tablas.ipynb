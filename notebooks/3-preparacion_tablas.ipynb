{
 "cells": [
  {
   "cell_type": "markdown",
   "metadata": {},
   "source": [
    "## Preparación de los dataframes para la base de datos"
   ]
  },
  {
   "cell_type": "code",
   "execution_count": 1,
   "metadata": {},
   "outputs": [],
   "source": [
    "import pandas as pd\n",
    "import numpy as np\n",
    "import sys\n",
    "import os\n",
    "import warnings\n",
    "warnings.filterwarnings('ignore')\n",
    "\n",
    "# Agregar el directorio 'src' al path\n",
    "sys.path.append(os.path.abspath('../src'))\n",
    "\n",
    "# Importar la función suma del módulo auxiliares\n",
    "import funciones_auxiliares as fa"
   ]
  },
  {
   "cell_type": "code",
   "execution_count": 2,
   "metadata": {},
   "outputs": [],
   "source": [
    "df = pd.read_csv(f\"../datos/df_supermercados.csv\")"
   ]
  },
  {
   "cell_type": "markdown",
   "metadata": {},
   "source": [
    "Tabla supermercados"
   ]
  },
  {
   "cell_type": "code",
   "execution_count": 3,
   "metadata": {},
   "outputs": [],
   "source": [
    "df_super = pd.DataFrame(df[\"supermercado\"].unique())\n",
    "df_super.reset_index(inplace=True)\n",
    "df_super.rename(columns={'index':'id_super', 0:'nombre'}, inplace=True)\n",
    "df_super[\"id_super\"]=df_super[\"id_super\"].apply(lambda x: x+1)"
   ]
  },
  {
   "cell_type": "code",
   "execution_count": 4,
   "metadata": {},
   "outputs": [],
   "source": [
    "df_super.to_csv(\"../datos/tabla_super.csv\")"
   ]
  },
  {
   "cell_type": "code",
   "execution_count": 5,
   "metadata": {},
   "outputs": [
    {
     "data": {
      "text/html": [
       "<div>\n",
       "<style scoped>\n",
       "    .dataframe tbody tr th:only-of-type {\n",
       "        vertical-align: middle;\n",
       "    }\n",
       "\n",
       "    .dataframe tbody tr th {\n",
       "        vertical-align: top;\n",
       "    }\n",
       "\n",
       "    .dataframe thead th {\n",
       "        text-align: right;\n",
       "    }\n",
       "</style>\n",
       "<table border=\"1\" class=\"dataframe\">\n",
       "  <thead>\n",
       "    <tr style=\"text-align: right;\">\n",
       "      <th></th>\n",
       "      <th>id_super</th>\n",
       "      <th>nombre</th>\n",
       "    </tr>\n",
       "  </thead>\n",
       "  <tbody>\n",
       "    <tr>\n",
       "      <th>0</th>\n",
       "      <td>1</td>\n",
       "      <td>alcampo</td>\n",
       "    </tr>\n",
       "    <tr>\n",
       "      <th>1</th>\n",
       "      <td>2</td>\n",
       "      <td>carrefour</td>\n",
       "    </tr>\n",
       "    <tr>\n",
       "      <th>2</th>\n",
       "      <td>3</td>\n",
       "      <td>dia</td>\n",
       "    </tr>\n",
       "    <tr>\n",
       "      <th>3</th>\n",
       "      <td>4</td>\n",
       "      <td>eroski</td>\n",
       "    </tr>\n",
       "    <tr>\n",
       "      <th>4</th>\n",
       "      <td>5</td>\n",
       "      <td>hipercor</td>\n",
       "    </tr>\n",
       "    <tr>\n",
       "      <th>5</th>\n",
       "      <td>6</td>\n",
       "      <td>mercadona</td>\n",
       "    </tr>\n",
       "  </tbody>\n",
       "</table>\n",
       "</div>"
      ],
      "text/plain": [
       "   id_super     nombre\n",
       "0         1    alcampo\n",
       "1         2  carrefour\n",
       "2         3        dia\n",
       "3         4     eroski\n",
       "4         5   hipercor\n",
       "5         6  mercadona"
      ]
     },
     "execution_count": 5,
     "metadata": {},
     "output_type": "execute_result"
    }
   ],
   "source": [
    "df_super"
   ]
  },
  {
   "cell_type": "markdown",
   "metadata": {},
   "source": [
    "Tabla productos"
   ]
  },
  {
   "cell_type": "code",
   "execution_count": 6,
   "metadata": {},
   "outputs": [],
   "source": [
    "df_productos = pd.DataFrame(df[\"producto\"].unique())\n",
    "df_productos.reset_index(inplace=True)\n",
    "df_productos.rename(columns={'index':'id_producto', 0:'nombre'}, inplace=True)\n",
    "df_productos[\"id_producto\"]=df_productos[\"id_producto\"].apply(lambda x: x+1)"
   ]
  },
  {
   "cell_type": "code",
   "execution_count": 7,
   "metadata": {},
   "outputs": [],
   "source": [
    "df_productos.to_csv(\"../datos/tabla_productos.csv\")"
   ]
  },
  {
   "cell_type": "code",
   "execution_count": 8,
   "metadata": {},
   "outputs": [
    {
     "data": {
      "text/html": [
       "<div>\n",
       "<style scoped>\n",
       "    .dataframe tbody tr th:only-of-type {\n",
       "        vertical-align: middle;\n",
       "    }\n",
       "\n",
       "    .dataframe tbody tr th {\n",
       "        vertical-align: top;\n",
       "    }\n",
       "\n",
       "    .dataframe thead th {\n",
       "        text-align: right;\n",
       "    }\n",
       "</style>\n",
       "<table border=\"1\" class=\"dataframe\">\n",
       "  <thead>\n",
       "    <tr style=\"text-align: right;\">\n",
       "      <th></th>\n",
       "      <th>id_producto</th>\n",
       "      <th>nombre</th>\n",
       "    </tr>\n",
       "  </thead>\n",
       "  <tbody>\n",
       "    <tr>\n",
       "      <th>0</th>\n",
       "      <td>1</td>\n",
       "      <td>aceite de girasol</td>\n",
       "    </tr>\n",
       "    <tr>\n",
       "      <th>1</th>\n",
       "      <td>2</td>\n",
       "      <td>aceite de oliva</td>\n",
       "    </tr>\n",
       "    <tr>\n",
       "      <th>2</th>\n",
       "      <td>3</td>\n",
       "      <td>leche</td>\n",
       "    </tr>\n",
       "  </tbody>\n",
       "</table>\n",
       "</div>"
      ],
      "text/plain": [
       "   id_producto             nombre\n",
       "0            1  aceite de girasol\n",
       "1            2    aceite de oliva\n",
       "2            3              leche"
      ]
     },
     "execution_count": 8,
     "metadata": {},
     "output_type": "execute_result"
    }
   ],
   "source": [
    "df_productos"
   ]
  },
  {
   "cell_type": "markdown",
   "metadata": {},
   "source": [
    "Tabla comparativa"
   ]
  },
  {
   "cell_type": "markdown",
   "metadata": {},
   "source": [
    "Incluimos los id del supermercado y producto para tener las claves foraneas:"
   ]
  },
  {
   "cell_type": "code",
   "execution_count": 9,
   "metadata": {},
   "outputs": [],
   "source": [
    "df_merged = df.merge(right=df_super, how='left', left_on ='supermercado', right_on=\"nombre\")\n",
    "df_merged=df_merged.drop(columns=[\"Unnamed: 0\", \"supermercado\", \"nombre\"])"
   ]
  },
  {
   "cell_type": "code",
   "execution_count": 10,
   "metadata": {},
   "outputs": [],
   "source": [
    "df_merged_2 = df_merged.merge(right=df_productos, how='left', left_on ='producto', right_on=\"nombre\")\n",
    "df_merged_2 = df_merged_2.drop(columns=[\"producto\", \"nombre\"])"
   ]
  },
  {
   "cell_type": "markdown",
   "metadata": {},
   "source": [
    "Transformamos el precio a float:"
   ]
  },
  {
   "cell_type": "code",
   "execution_count": 11,
   "metadata": {},
   "outputs": [],
   "source": [
    "df_merged_2[\"Precio (€)\"]=df_merged_2[\"Precio (€)\"].str.replace(\",\",\".\").apply(float)\n",
    "df_merged_2[\"porcentaje\"]=df_merged_2[\"porcentaje\"].str.replace(\",\",\".\").apply(float)"
   ]
  },
  {
   "cell_type": "markdown",
   "metadata": {},
   "source": [
    "Transformamos la fecha a formato fecha:"
   ]
  },
  {
   "cell_type": "code",
   "execution_count": 12,
   "metadata": {},
   "outputs": [],
   "source": [
    "df_merged_2[\"Día\"]=pd.to_datetime(df_merged_2[\"Día\"])"
   ]
  },
  {
   "cell_type": "markdown",
   "metadata": {},
   "source": [
    "Reordenamos y borramos duplicados:"
   ]
  },
  {
   "cell_type": "code",
   "execution_count": 13,
   "metadata": {},
   "outputs": [],
   "source": [
    "df_merged_2 = df_merged_2.reindex(columns=['id_super', 'id_producto', 'nombre_producto', 'subcategoria', 'Día', 'Precio (€)', 'incremento', 'porcentaje'])\n",
    "df_merged_2.drop_duplicates(inplace=True)"
   ]
  },
  {
   "cell_type": "markdown",
   "metadata": {},
   "source": [
    "Finalmente añadiremos dos nuevas columnas: \"marca\" y \"cantidad\""
   ]
  },
  {
   "cell_type": "code",
   "execution_count": 23,
   "metadata": {},
   "outputs": [],
   "source": [
    "# Primero corregimos algunos nombres mal escritos:\n",
    "df_merged_2[\"nombre_producto\"]=df_merged_2[\"nombre_producto\"].str.replace(\"carbonel\", \"carbonell\")\n",
    "df_merged_2[\"nombre_producto\"]=df_merged_2[\"nombre_producto\"].str.replace(\"arginano\", \"arguinano\")"
   ]
  },
  {
   "cell_type": "code",
   "execution_count": 24,
   "metadata": {},
   "outputs": [],
   "source": [
    "# Creamos el df con las nuevas columnas\n",
    "df_aux = pd.DataFrame()\n",
    "df_aux[['marca', 'cantidad_unidad']] = df_merged_2['nombre_producto'].apply(fa.extraer_marca_cantidad)\n",
    "df_aux[\"marca\"]=df_aux[\"marca\"].str.strip()"
   ]
  },
  {
   "cell_type": "code",
   "execution_count": 25,
   "metadata": {},
   "outputs": [],
   "source": [
    "df_merged_3 = pd.concat([df_merged_2, df_aux], axis=1)"
   ]
  },
  {
   "cell_type": "code",
   "execution_count": 27,
   "metadata": {},
   "outputs": [],
   "source": [
    "df_merged_3.to_csv(\"../datos/tabla_comparativa.csv\")"
   ]
  },
  {
   "cell_type": "code",
   "execution_count": 28,
   "metadata": {},
   "outputs": [
    {
     "data": {
      "text/html": [
       "<div>\n",
       "<style scoped>\n",
       "    .dataframe tbody tr th:only-of-type {\n",
       "        vertical-align: middle;\n",
       "    }\n",
       "\n",
       "    .dataframe tbody tr th {\n",
       "        vertical-align: top;\n",
       "    }\n",
       "\n",
       "    .dataframe thead th {\n",
       "        text-align: right;\n",
       "    }\n",
       "</style>\n",
       "<table border=\"1\" class=\"dataframe\">\n",
       "  <thead>\n",
       "    <tr style=\"text-align: right;\">\n",
       "      <th></th>\n",
       "      <th>id_super</th>\n",
       "      <th>id_producto</th>\n",
       "      <th>nombre_producto</th>\n",
       "      <th>subcategoria</th>\n",
       "      <th>Día</th>\n",
       "      <th>Precio (€)</th>\n",
       "      <th>incremento</th>\n",
       "      <th>porcentaje</th>\n",
       "      <th>marca</th>\n",
       "      <th>cantidad_unidad</th>\n",
       "    </tr>\n",
       "  </thead>\n",
       "  <tbody>\n",
       "    <tr>\n",
       "      <th>99052</th>\n",
       "      <td>5</td>\n",
       "      <td>2</td>\n",
       "      <td>el corte ingles aceite de oliva virgen extra s...</td>\n",
       "      <td>virgen extra</td>\n",
       "      <td>2024-08-20</td>\n",
       "      <td>3.14</td>\n",
       "      <td>NaN</td>\n",
       "      <td>NaN</td>\n",
       "      <td>el corte ingles</td>\n",
       "      <td>200 ml</td>\n",
       "    </tr>\n",
       "    <tr>\n",
       "      <th>127971</th>\n",
       "      <td>5</td>\n",
       "      <td>3</td>\n",
       "      <td>unicla leche desnatada brik 1 l</td>\n",
       "      <td>desnatada</td>\n",
       "      <td>2024-09-09</td>\n",
       "      <td>1.35</td>\n",
       "      <td>NaN</td>\n",
       "      <td>NaN</td>\n",
       "      <td>unicla</td>\n",
       "      <td>1 l</td>\n",
       "    </tr>\n",
       "    <tr>\n",
       "      <th>31697</th>\n",
       "      <td>1</td>\n",
       "      <td>3</td>\n",
       "      <td>puleva proteina extra pro leche de vaca desnat...</td>\n",
       "      <td>desnatada</td>\n",
       "      <td>2024-08-19</td>\n",
       "      <td>1.50</td>\n",
       "      <td>NaN</td>\n",
       "      <td>NaN</td>\n",
       "      <td>puleva</td>\n",
       "      <td>1 l</td>\n",
       "    </tr>\n",
       "    <tr>\n",
       "      <th>26928</th>\n",
       "      <td>1</td>\n",
       "      <td>3</td>\n",
       "      <td>pascual leche desnatada 1 l</td>\n",
       "      <td>desnatada</td>\n",
       "      <td>2024-09-08</td>\n",
       "      <td>1.13</td>\n",
       "      <td>NaN</td>\n",
       "      <td>NaN</td>\n",
       "      <td>pascual</td>\n",
       "      <td>1 l</td>\n",
       "    </tr>\n",
       "    <tr>\n",
       "      <th>88775</th>\n",
       "      <td>5</td>\n",
       "      <td>1</td>\n",
       "      <td>elosol aceite refinado de girasol botella 1 l</td>\n",
       "      <td>NaN</td>\n",
       "      <td>2024-07-17</td>\n",
       "      <td>3.17</td>\n",
       "      <td>NaN</td>\n",
       "      <td>NaN</td>\n",
       "      <td>elosol</td>\n",
       "      <td>1 l</td>\n",
       "    </tr>\n",
       "  </tbody>\n",
       "</table>\n",
       "</div>"
      ],
      "text/plain": [
       "        id_super  id_producto  \\\n",
       "99052          5            2   \n",
       "127971         5            3   \n",
       "31697          1            3   \n",
       "26928          1            3   \n",
       "88775          5            1   \n",
       "\n",
       "                                          nombre_producto  subcategoria  \\\n",
       "99052   el corte ingles aceite de oliva virgen extra s...  virgen extra   \n",
       "127971                    unicla leche desnatada brik 1 l     desnatada   \n",
       "31697   puleva proteina extra pro leche de vaca desnat...     desnatada   \n",
       "26928                         pascual leche desnatada 1 l     desnatada   \n",
       "88775       elosol aceite refinado de girasol botella 1 l           NaN   \n",
       "\n",
       "              Día  Precio (€) incremento  porcentaje            marca  \\\n",
       "99052  2024-08-20        3.14        NaN         NaN  el corte ingles   \n",
       "127971 2024-09-09        1.35        NaN         NaN           unicla   \n",
       "31697  2024-08-19        1.50        NaN         NaN           puleva   \n",
       "26928  2024-09-08        1.13        NaN         NaN          pascual   \n",
       "88775  2024-07-17        3.17        NaN         NaN           elosol   \n",
       "\n",
       "       cantidad_unidad  \n",
       "99052           200 ml  \n",
       "127971             1 l  \n",
       "31697              1 l  \n",
       "26928              1 l  \n",
       "88775              1 l  "
      ]
     },
     "execution_count": 28,
     "metadata": {},
     "output_type": "execute_result"
    }
   ],
   "source": [
    "df_merged_3.sample(5)"
   ]
  },
  {
   "cell_type": "code",
   "execution_count": null,
   "metadata": {},
   "outputs": [],
   "source": []
  }
 ],
 "metadata": {
  "kernelspec": {
   "display_name": "Python 3",
   "language": "python",
   "name": "python3"
  },
  "language_info": {
   "codemirror_mode": {
    "name": "ipython",
    "version": 3
   },
   "file_extension": ".py",
   "mimetype": "text/x-python",
   "name": "python",
   "nbconvert_exporter": "python",
   "pygments_lexer": "ipython3",
   "version": "3.11.9"
  }
 },
 "nbformat": 4,
 "nbformat_minor": 2
}
